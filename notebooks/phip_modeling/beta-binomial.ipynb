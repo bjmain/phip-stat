{
 "cells": [
  {
   "cell_type": "markdown",
   "metadata": {},
   "source": [
    "# Beta-Binomial mixture"
   ]
  },
  {
   "cell_type": "markdown",
   "metadata": {},
   "source": [
    "Based on suggestion from Ben's collaborators Kai"
   ]
  },
  {
   "cell_type": "code",
   "execution_count": 34,
   "metadata": {
    "collapsed": true
   },
   "outputs": [],
   "source": [
    "import numpy as np\n",
    "import scipy as sp\n",
    "import pandas as pd\n",
    "import matplotlib.pyplot as plt\n",
    "import seaborn as sns"
   ]
  },
  {
   "cell_type": "code",
   "execution_count": 27,
   "metadata": {
    "collapsed": true
   },
   "outputs": [],
   "source": [
    "%matplotlib inline"
   ]
  },
  {
   "cell_type": "code",
   "execution_count": 45,
   "metadata": {
    "collapsed": true
   },
   "outputs": [],
   "source": [
    "def plot_hist(ax, a):\n",
    "    h, e = np.histogram(a, bins=100, range=(0, upper_bound), density=True)\n",
    "    ax.hlines(h, e[:-1], e[1:])"
   ]
  },
  {
   "cell_type": "markdown",
   "metadata": {},
   "source": [
    "Load data"
   ]
  },
  {
   "cell_type": "code",
   "execution_count": 74,
   "metadata": {},
   "outputs": [],
   "source": [
    "# data_file = '/Users/laserson/tmp/phip_analysis/sjogrens3/counts.tsv'\n",
    "data_file = '/Users/laserson/tmp/phip_analysis/twin-virscan-larman/counts.tsv'\n",
    "counts = pd.read_csv(data_file, sep='\\t', header=0, index_col=0)"
   ]
  },
  {
   "cell_type": "code",
   "execution_count": 33,
   "metadata": {},
   "outputs": [],
   "source": [
    "ctrl_cols = [col for col in counts.columns if col.split('.')[2] == 'BEADS_ONLY']\n",
    "case_cols = [col for col in counts.columns if col.split('.')[2] == 'Sjogrens' and col.split('.')[4] == '20A20G']"
   ]
  },
  {
   "cell_type": "code",
   "execution_count": 75,
   "metadata": {
    "collapsed": true
   },
   "outputs": [],
   "source": [
    "trim_percentile = 99.9\n",
    "upper_bound = sp.stats.scoreatpercentile(counts.values, trim_percentile)\n",
    "masked_counts = np.ma.masked_greater(counts.values, upper_bound)"
   ]
  },
  {
   "cell_type": "markdown",
   "metadata": {},
   "source": [
    "Distribution of frequencies"
   ]
  },
  {
   "cell_type": "code",
   "execution_count": 108,
   "metadata": {},
   "outputs": [],
   "source": [
    "sums = np.ma.sum(masked_counts, axis=1).data\n",
    "freqs = sums / sums.sum()\n",
    "(alpha_prior, beta_prior, _, _) = sp.stats.beta.fit(freqs[freqs > 0], floc=0, fscale=1)"
   ]
  },
  {
   "cell_type": "code",
   "execution_count": 119,
   "metadata": {},
   "outputs": [
    {
     "data": {
      "text/plain": [
       "[<matplotlib.lines.Line2D at 0x11603e3c8>]"
      ]
     },
     "execution_count": 119,
     "metadata": {},
     "output_type": "execute_result"
    },
    {
     "data": {
      "image/png": "[encoded data removed]",
      "text/plain": [
       "<Figure size 432x288 with 1 Axes>"
      ]
     },
     "metadata": {},
     "output_type": "display_data"
    }
   ],
   "source": [
    "h, e = np.histogram(freqs, bins='auto', range=(0, 6e-5), density=True)\n",
    "(fig, ax) = plt.subplots()\n",
    "ax.hlines(h, e[:-1], e[1:])\n",
    "x = np.linspace(0, 6e-5)\n",
    "y = sp.stats.beta.pdf(x, 3, 300000)\n",
    "ax.plot(x, y)"
   ]
  },
  {
   "cell_type": "code",
   "execution_count": 110,
   "metadata": {},
   "outputs": [],
   "source": [
    "sp.stats.beta?"
   ]
  },
  {
   "cell_type": "code",
   "execution_count": 115,
   "metadata": {},
   "outputs": [
    {
     "data": {
      "text/plain": [
       "0.81813443100389305"
      ]
     },
     "execution_count": 115,
     "metadata": {},
     "output_type": "execute_result"
    }
   ],
   "source": [
    "alpha_prior"
   ]
  },
  {
   "cell_type": "code",
   "execution_count": 117,
   "metadata": {},
   "outputs": [
    {
     "data": {
      "text/plain": [
       "78466.878584780323"
      ]
     },
     "execution_count": 117,
     "metadata": {},
     "output_type": "execute_result"
    }
   ],
   "source": [
    "beta_prior"
   ]
  },
  {
   "cell_type": "code",
   "execution_count": 44,
   "metadata": {},
   "outputs": [
    {
     "data": {
      "text/plain": [
       "0.07073589234417475"
      ]
     },
     "execution_count": 44,
     "metadata": {},
     "output_type": "execute_result"
    }
   ],
   "source": [
    "18345 / 259345"
   ]
  },
  {
   "cell_type": "code",
   "execution_count": 78,
   "metadata": {},
   "outputs": [
    {
     "data": {
      "text/plain": [
       "Index(['Twins1.serum.Twins.91302.20A20G.1',\n",
       "       'Twins4.serum.Twins.23992.20A20G.1', 'Twins3.serum.Twins.202.20A20G.1',\n",
       "       'Twins3.serum.Twins.51402.20A20G.1',\n",
       "       'Twins6.serum.Twins.32592.20A20G.1',\n",
       "       'Twins1.serum.Twins.94452.20A20G.1', 'Twins6.serum.Twins.7252.20A20G.1',\n",
       "       'Twins5.serum.Control.ControlX.20A20G.1',\n",
       "       'Twins4.serum.Twins.20082.20A20G.1',\n",
       "       'Twins5.serum.Twins.53871.20A20G.1',\n",
       "       ...\n",
       "       'Twins5.serum.Twins.4172.20A20G.1', 'Twins6.serum.Twins.50972.20A20G.1',\n",
       "       'Twins2.serum.Twins.51272.20A20G.1',\n",
       "       'Twins2.serum.Twins.99201.20A20G.1', 'Twins4.serum.Twins.1381.20A20G.1',\n",
       "       'Twins6.serum.Twins.2632.20A20G.1', 'Twins1.serum.Twins.21192.20A20G.1',\n",
       "       'Twins4.serum.Twins.30791.20A20G.1',\n",
       "       'Twins6.serum.Twins.20552.20A20G.1',\n",
       "       'Twins3.serum.Twins.59451.20A20G.1'],\n",
       "      dtype='object', length=576)"
      ]
     },
     "execution_count": 78,
     "metadata": {},
     "output_type": "execute_result"
    }
   ],
   "source": [
    "counts.columns"
   ]
  },
  {
   "cell_type": "code",
   "execution_count": null,
   "metadata": {
    "collapsed": true
   },
   "outputs": [],
   "source": []
  },
  {
   "cell_type": "code",
   "execution_count": 159,
   "metadata": {
    "collapsed": true
   },
   "outputs": [],
   "source": [
    "from scipy.special import betaln\n",
    "\n",
    "def fit_betabinom(counts):\n",
    "    M = len(counts)\n",
    "    N = counts.sum()\n",
    "\n",
    "    def nll(x):\n",
    "        alpha = x[0]\n",
    "        beta = x[1]\n",
    "        return -1 * (betaln(counts + alpha, N - counts + beta).sum() - M * betaln(alpha, beta))\n",
    "\n",
    "    return sp.optimize.minimize(nll,\n",
    "                                 np.asarray([.1, 100000]),\n",
    "                                 bounds=[(np.nextafter(0, 1), None),\n",
    "                                         (np.nextafter(0, 1), None)])\n",
    "    (alpha, beta) = param.x\n",
    "    return (alpha, beta)\n"
   ]
  },
  {
   "cell_type": "code",
   "execution_count": 160,
   "metadata": {},
   "outputs": [
    {
     "data": {
      "text/plain": [
       "      fun: 2903962146.4727883\n",
       " hess_inv: <2x2 LbfgsInvHessProduct with dtype=float64>\n",
       "      jac: array([  2.22135067e+07,   2.24113464e+03])\n",
       "  message: b'CONVERGENCE: REL_REDUCTION_OF_F_<=_FACTR*EPSMCH'\n",
       "     nfev: 57\n",
       "      nit: 2\n",
       "   status: 0\n",
       "  success: True\n",
       "        x: array([  1.10000011e+00,   1.00000000e+05])"
      ]
     },
     "execution_count": 160,
     "metadata": {},
     "output_type": "execute_result"
    }
   ],
   "source": [
    "fit_betabinom(counts.sum(axis=1).values)"
   ]
  },
  {
   "cell_type": "code",
   "execution_count": 149,
   "metadata": {},
   "outputs": [
    {
     "name": "stderr",
     "output_type": "stream",
     "text": [
      "/Users/laserson/miniconda3/lib/python3.6/site-packages/scipy/optimize/_minimize.py:518: RuntimeWarning: Method CG cannot handle constraints nor bounds.\n",
      "  RuntimeWarning)\n"
     ]
    },
    {
     "data": {
      "text/plain": [
       "     fun: 1207163.7052453682\n",
       "     jac: array([-1068503.5,    -4925. ])\n",
       " message: 'Desired error not necessarily achieved due to precision loss.'\n",
       "    nfev: 268\n",
       "     nit: 0\n",
       "    njev: 64\n",
       "  status: 2\n",
       " success: False\n",
       "       x: array([  0.5,  10. ])"
      ]
     },
     "execution_count": 149,
     "metadata": {},
     "output_type": "execute_result"
    }
   ],
   "source": [
    "sp.optimize.minimize(nll_betabinom(counts.sum(axis=1).values), np.asarray([0.5, 10]), bounds=[(np.nextafter(0, 1), None),\n",
    "                                         (np.nextafter(0, 1), None)], method='CG')"
   ]
  },
  {
   "cell_type": "code",
   "execution_count": 134,
   "metadata": {
    "collapsed": true
   },
   "outputs": [],
   "source": [
    "f = nll_betabinom(counts.sum(axis=1).values)"
   ]
  },
  {
   "cell_type": "code",
   "execution_count": 145,
   "metadata": {},
   "outputs": [
    {
     "data": {
      "text/plain": [
       "980649.8762512207"
      ]
     },
     "execution_count": 145,
     "metadata": {},
     "output_type": "execute_result"
    }
   ],
   "source": [
    "f([.1, 100000])"
   ]
  },
  {
   "cell_type": "code",
   "execution_count": 162,
   "metadata": {},
   "outputs": [
    {
     "data": {
      "text/plain": [
       "array([ 1.     ,  7.59138])"
      ]
     },
     "execution_count": 162,
     "metadata": {},
     "output_type": "execute_result"
    }
   ],
   "source": [
    "sp.special.beta(np.asarray([1, .1]), np.asarray([1, 10]))"
   ]
  },
  {
   "cell_type": "code",
   "execution_count": 164,
   "metadata": {},
   "outputs": [
    {
     "data": {
      "text/plain": [
       "7.5913800009109984"
      ]
     },
     "execution_count": 164,
     "metadata": {},
     "output_type": "execute_result"
    }
   ],
   "source": [
    "sp.special.beta(.1, 10)"
   ]
  },
  {
   "cell_type": "code",
   "execution_count": null,
   "metadata": {
    "collapsed": true
   },
   "outputs": [],
   "source": []
  }
 ],
 "metadata": {
  "kernelspec": {
   "display_name": "Python 3",
   "language": "python",
   "name": "python3"
  },
  "language_info": {
   "codemirror_mode": {
    "name": "ipython",
    "version": 3
   },
   "file_extension": ".py",
   "mimetype": "text/x-python",
   "name": "python",
   "nbconvert_exporter": "python",
   "pygments_lexer": "ipython3",
   "version": "3.6.1"
  }
 },
 "nbformat": 4,
 "nbformat_minor": 2
}
